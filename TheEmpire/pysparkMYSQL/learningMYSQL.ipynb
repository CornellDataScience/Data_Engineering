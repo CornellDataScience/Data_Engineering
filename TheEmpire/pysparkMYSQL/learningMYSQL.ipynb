{
 "cells": [
  {
   "cell_type": "code",
   "execution_count": null,
   "metadata": {},
   "outputs": [],
   "source": [
    "import findspark\n",
    "print(findspark.find())\n",
    "findspark.init(\"/usr/local/spark\")"
   ]
  },
  {
   "cell_type": "code",
   "execution_count": 2,
   "metadata": {
    "collapsed": true
   },
   "outputs": [],
   "source": [
    "from pyspark.sql import SparkSession\n",
    "spark = SparkSession \\\n",
    "        .builder \\\n",
    "        .master(\"yarn\") \\\n",
    "        .appName(\"tests\") \\\n",
    "        .config(\"spark.executor.instances\", \"3\") \\\n",
    "        .config(\"spark.executor.memory\",\"1g\") \\\n",
    "        .config(\"spark.driver.memory\",\"1g\") \\\n",
    "        .config(\"spark.executor.cores\",'1') \\\n",
    "        .config(\"spark.scheduler.mode\",\"FIFO\") \\\n",
    "        .getOrCreate()\n",
    "sc = spark.sparkContext"
   ]
  },
  {
   "cell_type": "code",
   "execution_count": 11,
   "metadata": {
    "collapsed": true
   },
   "outputs": [],
   "source": [
    "from pyspark.sql import SQLContext\n",
    "sqlContext = SQLContext(sc)"
   ]
  },
  {
   "cell_type": "code",
   "execution_count": 12,
   "metadata": {
    "collapsed": true
   },
   "outputs": [],
   "source": [
    "#Add to spark-defaults.conf file\n",
    "#Download mysql-connector.jar\n",
    "source_df = sqlContext.read.format('jdbc').options(\n",
    "          url='jdbc:mysql://localhost/learnMYSQL',\n",
    "          driver='com.mysql.jdbc.Driver',\n",
    "          dbtable='train',\n",
    "          user='root',\n",
    "          password='').load()"
   ]
  },
  {
   "cell_type": "code",
   "execution_count": null,
   "metadata": {
    "collapsed": true
   },
   "outputs": [],
   "source": [
    "source_df.take(1)"
   ]
  }
 ],
 "metadata": {
  "kernelspec": {
   "display_name": "Python 3",
   "language": "python",
   "name": "python3"
  },
  "language_info": {
   "codemirror_mode": {
    "name": "ipython",
    "version": 3
   },
   "file_extension": ".py",
   "mimetype": "text/x-python",
   "name": "python",
   "nbconvert_exporter": "python",
   "pygments_lexer": "ipython3",
   "version": "3.6.1"
  }
 },
 "nbformat": 4,
 "nbformat_minor": 2
}
